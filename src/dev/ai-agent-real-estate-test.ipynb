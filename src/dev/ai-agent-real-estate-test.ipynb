{
 "cells": [
  {
   "cell_type": "code",
   "execution_count": null,
   "id": "08584f23",
   "metadata": {},
   "outputs": [],
   "source": [
    "# Test  AI Agent framework  AI A real estate agent "
   ]
  },
  {
   "cell_type": "code",
   "execution_count": 53,
   "id": "7eb5f692",
   "metadata": {},
   "outputs": [],
   "source": [
    "import os , json, time , gc\n",
    "\n",
    "from dotenv import load_dotenv\n",
    "from IPython.display import display, HTML, Markdown\n",
    "from tqdm import tqdm\n",
    "from openai import OpenAI, AsyncOpenAI\n",
    "import asyncio\n",
    "import pandas as pd\n",
    "import numpy as np\n",
    "import torch\n",
    "\n",
    "\n",
    "import nest_asyncio\n",
    "nest_asyncio.apply() # for jupyter notebook"
   ]
  },
  {
   "cell_type": "code",
   "execution_count": 54,
   "id": "83e116c5",
   "metadata": {},
   "outputs": [],
   "source": [
    "from crewai import Crew, Agent, Task, Process \n",
    "from crewai_tools import BraveSearchTool\n",
    "import crewai\n",
    "from pydantic import BaseModel, Field\n",
    "from typing import List, Optional, Dict, Any\n"
   ]
  },
  {
   "cell_type": "code",
   "execution_count": 55,
   "id": "f5a295c7",
   "metadata": {},
   "outputs": [],
   "source": [
    "class CFG:\n",
    "    # search engine\n",
    "    num_results = 3 # 5\n",
    "    queryTime = \"month\" #\"year\"\n",
    "\n",
    "    # Azure Opena Model\n",
    "    llmModel1 = \"gpt-4o-mini\"\n",
    "    llmModel2 = \"gpt-4o\"\n",
    "    embedModel1 = \"text-embedding-3-small\" #1528 openai embedding model\n",
    "    embedModel2 = \"text-embedding-3-large\"  # around 3000 dimension\n",
    "    embedModel3 = \"text-embedding-ada-002\"\n",
    "    embedModel4 = \"azure-text-embedding-3-small\"\n",
    "    embedModel5 = \"azure-text-embedding-3-large\"\n",
    "\n",
    "  \n",
    "    \n",
    "    openEmbedModel1 = \"intfloat/multilingual-e5-small\" # 512 dimension\n",
    "    openEmbedModel2 = \"sentence-transformers/distiluse-base-multilingual-cased-v1\"\n",
    "    openEmbedModel3 = \"intfloat/multilingual-e5-large\" # curent  # 1024 dimension \n",
    "    openEmbedModel4 = \"Alibaba-NLP/gte-multilingual-base\"\n",
    "    openEmbedModel5 = \"nomic-embed-text\" # 768 dimension , support 8196 input \n",
    "\n",
    "\n",
    "    visionEmbedModel1 = \"nomic-ai/nomic-embed-vision-v1.5\"\n",
    "    visionEmbedModel2 =  \"openai/clip-vit-base-patch16\" # openai vision embeding model \n",
    "\n",
    "\n",
    "    promptInjectModel1 = \"protectai/deberta-v3-base-prompt-injection-v2\"\n",
    "\n",
    "    htmlMarkdownModel1 = \"jinaai/reader-lm-0.5b\"\n",
    "    htmlMarkdownModel2 = \"jinaai/reader-lm-1.5b\"\n",
    "\n",
    "\n",
    "    # Load locally Open source Embedding model \n",
    "    modelPath = \"./model\" \n",
    "    fullModelPath = modelPath + \"/\" + openEmbedModel3"
   ]
  },
  {
   "cell_type": "code",
   "execution_count": 56,
   "id": "d4ce5358",
   "metadata": {},
   "outputs": [
    {
     "data": {
      "text/plain": [
       "device(type='cuda')"
      ]
     },
     "execution_count": 56,
     "metadata": {},
     "output_type": "execute_result"
    }
   ],
   "source": [
    "device = torch.device(\"cuda\" if torch.cuda.is_available() else \"cpu\")\n",
    "device"
   ]
  },
  {
   "cell_type": "code",
   "execution_count": 57,
   "id": "99f9b70c",
   "metadata": {},
   "outputs": [],
   "source": [
    "from langchain_ollama import OllamaLLM, ChatOllama\n",
    "from langchain_openai import ChatOpenAI"
   ]
  },
  {
   "cell_type": "code",
   "execution_count": 58,
   "id": "f622373a",
   "metadata": {},
   "outputs": [],
   "source": [
    "import ctypes\n",
    "def clearMemory():\n",
    "    for _ in range(5):\n",
    "        torch.cuda.empty_cache()\n",
    "        ctypes.CDLL(\"libc.so.6\").malloc_trim(0)\n",
    "        gc.collect()\n",
    "        time.sleep(0.3)"
   ]
  },
  {
   "cell_type": "code",
   "execution_count": 59,
   "id": "e5cbbc02",
   "metadata": {},
   "outputs": [],
   "source": [
    "query=\"Find me a 3 bedroom house in Hong Kong under $5 million\""
   ]
  },
  {
   "cell_type": "code",
   "execution_count": 60,
   "id": "be4af519",
   "metadata": {},
   "outputs": [],
   "source": [
    "# from crewai_tools import BraveSearchTool\n",
    "\n",
    "# # Initialize the tool for internet searching capabilities\n",
    "# tool = BraveSearchTool()"
   ]
  },
  {
   "cell_type": "markdown",
   "id": "b9c2c86c",
   "metadata": {},
   "source": [
    "# SearxNG Web Search Engine\n",
    "\n",
    "You can [check this link](https://docs.searxng.org/dev/search_api.html) for more informations about `Searx API` parameters.\n",
    "#### Download SearxNG docker for local host setup web search Engine"
   ]
  },
  {
   "cell_type": "code",
   "execution_count": 66,
   "id": "f6ff0934",
   "metadata": {},
   "outputs": [],
   "source": [
    "import pprint\n",
    "from langchain_community.utilities import SearxSearchWrapper"
   ]
  },
  {
   "cell_type": "code",
   "execution_count": 69,
   "id": "ffed17d4",
   "metadata": {},
   "outputs": [],
   "source": [
    "searchGeneralConfig = \"!general\"\n",
    "searchImageConfig = \"!images !bii !brimg !ddi !goi\"\n",
    "searchVideoConfig = \"!videos !biv !brvid !ddv !gov\"\n",
    "searchNewConfig = \"!news !gon !yhn\"\n",
    "searchMapConfig = \"!map paris\"\n",
    "searchYouTubeConfig = \"!yt\"\n",
    "searchSocialMedia = \"!social_media !re !toot !mah !leco\""
   ]
  },
  {
   "cell_type": "code",
   "execution_count": 70,
   "id": "eb0aa561",
   "metadata": {},
   "outputs": [],
   "source": [
    "searxHost = \"http://localhost:8080\" #for langchain\n",
    "searxHost2 = \"http://localhost:8080/search\" # for Searxng API directly\n",
    "search = SearxSearchWrapper(searx_host=searxHost, k=5)"
   ]
  },
  {
   "cell_type": "code",
   "execution_count": 71,
   "id": "030e48d3",
   "metadata": {},
   "outputs": [],
   "source": [
    "## Find URL web page for the query\n",
    "\n",
    "def searchURL(q, k=3, qureyTime=CFG.queryTime, \n",
    "              engines=[\"duckduckgo\", \"qwant\", \"google\", \"brave\"],\n",
    "              categories = \"general\",\n",
    "              querySuffix = None):\n",
    "    results = search.results(q, \n",
    "                        num_results=k,\n",
    "                        time_range = qureyTime,\n",
    "                        engines= engines,\n",
    "                        categories = categories,\n",
    "                       query_suffix = querySuffix,\n",
    "                       )\n",
    "    \n",
    "    return results\n",
    "\n",
    "async def asyncSearchURL(q, k=3 , qureyTime=CFG.queryTime, \n",
    "                         engines=[\"duckduckgo\", \"qwant\", \"google\", \"brave\"],\n",
    "                         categories = \"general\",\n",
    "                         querySuffix = None\n",
    "                        ):\n",
    "    startTime = time.time()\n",
    "    results = await search.aresults(q, \n",
    "                        num_results=k,\n",
    "                        time_range = qureyTime,\n",
    "                        engines= engines,\n",
    "                        categories = categories,\n",
    "                        query_suffix = querySuffix,)\n",
    "    print(f\"Time take: {time.time() - startTime}\")\n",
    "    print(f\"Query Categores : {categories}\")\n",
    "    return results\n",
    "    "
   ]
  },
  {
   "cell_type": "code",
   "execution_count": 74,
   "id": "1a5caf0b",
   "metadata": {},
   "outputs": [
    {
     "name": "stdout",
     "output_type": "stream",
     "text": [
      "Time take: 0.9366345405578613\n",
      "Query Categores : []\n",
      "What is Hong Kong Weather Now?\n"
     ]
    },
    {
     "data": {
      "text/plain": [
       "[{'snippet': '3 weeks ago - Stay informed and make the most of your day with our live weather updates from Hong Kong today. The temperature today in Hong Kong is expected to be typical for this time of year, with a forecast of 22 °C, closely aligning with the historical average for 6th of April.',\n",
       "  'title': \"Today's Weather in Hong Kong - Hourly Forecast and Conditions\",\n",
       "  'link': 'https://www.easeweather.com/asia/hong-kong/today',\n",
       "  'engines': ['brave'],\n",
       "  'category': 'general'},\n",
       " {'snippet': '2 weeks ago - Summer in Hong Kong is from late May to September. Weather: Temperatures commonly exceed 31 °C (88 °F).',\n",
       "  'title': 'Best Times to Visit Hong Kong 2025 & Typhoon Season',\n",
       "  'link': 'https://www.chinahighlights.com/hong-kong/weather.htm',\n",
       "  'engines': ['brave'],\n",
       "  'category': 'general'},\n",
       " {'snippet': '2 weeks ago - The Post breaks down what’s behind the dusty, dry weather that triggered a health warning.',\n",
       "  'title': 'Explainer | Why is Hong Kong suddenly blanketed in haze and how much longer will it last? | South China Morning Post',\n",
       "  'link': 'https://www.scmp.com/news/hong-kong/health-environment/article/3306365/why-hong-kong-suddenly-blanketed-haze-and-how-much-longer-will-it-last',\n",
       "  'engines': ['brave'],\n",
       "  'category': 'general'},\n",
       " {'snippet': '1 week ago - Current Hong Kong Island weather condition is Partly cloudy with real-time temperature (26°C), humidity 89%, wind 14.4km/h, pressure (1008mb), UV (0), visibility (10km) in Hong Kong.',\n",
       "  'title': 'Real-Time Hong Kong Island Weather Conditions & Forecast | Temperature, Humidity',\n",
       "  'link': 'https://www.aqi.in/weather/china/hong-kong/hong-kong-island',\n",
       "  'engines': ['brave'],\n",
       "  'category': 'general'},\n",
       " {'snippet': \"2 days ago - Today's Hong Kong, Hong Kong water temperature. Marine / ocean climate data updated daily, surface sea temperatures and recorded in degrees centigrade and farenheit.\",\n",
       "  'title': 'Hong Kong Water Temperature | Hong Kong | Sea Temperatures',\n",
       "  'link': 'https://www.seatemperature.org/asia/hong-kong/hong-kong.htm',\n",
       "  'engines': ['brave'],\n",
       "  'category': 'general'}]"
      ]
     },
     "execution_count": 74,
     "metadata": {},
     "output_type": "execute_result"
    }
   ],
   "source": [
    "# %%time\n",
    "queryTime = \"month\" #\"year\"#\"month\" #\"year\" #\"day\"\n",
    "k = 5#5\n",
    "currentQuery = \"What is Hong Kong Weather Now?\" #q2 #\"Hong Kong Kwun Tong\" #q3#tempQuery#q1\n",
    "categories =  []#[\"\"] #[\"science\"]#[\"science\", \"image\"]\n",
    "query_suffix = None #searchMapConfig   # searchVideoConfig\n",
    "urls = await asyncSearchURL(currentQuery, k=k, qureyTime=queryTime, categories=categories,  querySuffix= query_suffix)\n",
    "print(currentQuery)\n",
    "urls"
   ]
  },
  {
   "cell_type": "markdown",
   "id": "80468679",
   "metadata": {},
   "source": [
    "# Web scaping tool used Crawl4AI tool base on Playwrigth and Chrowmimum browswer\n"
   ]
  },
  {
   "cell_type": "code",
   "execution_count": 77,
   "id": "c7f280dc",
   "metadata": {},
   "outputs": [],
   "source": [
    "# Bros\n",
    "# Test  playwright engine\n",
    "from playwright.async_api import async_playwright\n",
    "\n",
    "async def playwrightTestWeb():\n",
    "    async with async_playwright() as p:\n",
    "        browser = await p.chromium.launch(headless=True) # launch browser\n",
    "        page = await browser.new_page()\n",
    "        await page.goto('https://www.google.com')\n",
    "        print(f\"Title of the page: {await page.title()}\")\n",
    "        await page.screenshot(path='example.png')# save screenshot\n",
    "        await browser.close()"
   ]
  },
  {
   "cell_type": "code",
   "execution_count": null,
   "id": "e3d0bb3f",
   "metadata": {},
   "outputs": [
    {
     "name": "stdout",
     "output_type": "stream",
     "text": [
      "Title of the page: Google\n"
     ]
    }
   ],
   "source": [
    "await playwrightTestWeb() # test the browser pylaywright engine"
   ]
  },
  {
   "cell_type": "code",
   "execution_count": null,
   "id": "258ba2c5",
   "metadata": {},
   "outputs": [],
   "source": []
  }
 ],
 "metadata": {
  "kernelspec": {
   "display_name": "Python 3",
   "language": "python",
   "name": "python3"
  },
  "language_info": {
   "codemirror_mode": {
    "name": "ipython",
    "version": 3
   },
   "file_extension": ".py",
   "mimetype": "text/x-python",
   "name": "python",
   "nbconvert_exporter": "python",
   "pygments_lexer": "ipython3",
   "version": "3.10.12"
  }
 },
 "nbformat": 4,
 "nbformat_minor": 5
}
