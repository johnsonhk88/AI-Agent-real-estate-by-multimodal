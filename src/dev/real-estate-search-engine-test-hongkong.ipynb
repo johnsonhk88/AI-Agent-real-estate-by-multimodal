{
 "cells": [
  {
   "cell_type": "markdown",
   "id": "765fafe5",
   "metadata": {},
   "source": [
    "## Hong Kong real estate\n",
    "Top real estate search engines and platforms in Hong Kong include centanet.com, 28Hse.com, midland.com.hk, house730.com, and spacious.hk. These platforms provide listings from agents and landlords, market data, and news to assist with buying, selling, or renting property in the region. \n",
    "\n",
    "### Here's a breakdown of some popular options:\n",
    "Centaline Property (<centanet.com>): One of the largest real estate companies in Hong Kong, its website is a major platform for property listings. \n",
    "- <28Hse.com>: This platform lists properties from agents and landlords and also provides property transaction data and market news. \n",
    "\n",
    "- Midland Realty (<midland.com.hk>): Another leading real estate company in Hong Kong with a comprehensive online presence. \n",
    "\n",
    "- <House730.com>: A popular online property platform offering a wide range of listings. \n",
    "\n",
    "- <Spacious.hk>: This platform also provides property listings and helpful market information. \n",
    "When searching for property, consider factors such as: \n",
    "Transportation: Look for locations with good access to the MTR or other public transport.\n",
    "Facilities: Check the amenities offered by private housing estates.\n",
    "Neighborhoods: Investigate the availability of schools and the proximity to school zones if you have a family."
   ]
  },
  {
   "cell_type": "markdown",
   "id": "8e52656c",
   "metadata": {},
   "source": []
  },
  {
   "cell_type": "code",
   "execution_count": null,
   "id": "dfaf2a98",
   "metadata": {},
   "outputs": [],
   "source": [
    "port os , json, time , gc\n",
    "import logging\n",
    "\n",
    "\n",
    "from dotenv import load_dotenv\n",
    "from IPython.display import display, HTML, Markdown\n",
    "from tqdm import tqdm\n",
    "from openai import OpenAI, AsyncOpenAI\n",
    "from openai.types.chat import (ChatCompletion, \n",
    "                               ChatCompletionChunk,\n",
    "                               ChatCompletionContentPartTextParam, \n",
    "                               ChatCompletionContentPartImageParam,\n",
    "                               ChatCompletionStreamOptionsParam)\n",
    "import asyncio\n",
    "import aiohttp\n",
    "import pandas as pd\n",
    "import re\n",
    "import torch\n",
    "\n",
    "import nest_asyncio\n",
    "nest_asyncio.apply()"
   ]
  },
  {
   "cell_type": "code",
   "execution_count": null,
   "id": "183f2ab5",
   "metadata": {},
   "outputs": [
    {
     "data": {
      "text/plain": [
       "<module 'crawl4ai.__version__' from '/home/johnsonhk88/.pyenv/versions/3.11.11/lib/python3.11/site-packages/crawl4ai/__version__.py'>"
      ]
     },
     "execution_count": 1,
     "metadata": {},
     "output_type": "execute_result"
    }
   ],
   "source": [
    "import crawl4ai\n",
    "# crawl4ai.__version__"
   ]
  },
  {
   "cell_type": "code",
   "execution_count": null,
   "id": "69912d30",
   "metadata": {},
   "outputs": [],
   "source": [
    "# House 730 - https://www.house730.com.hk/"
   ]
  },
  {
   "cell_type": "code",
   "execution_count": null,
   "id": "3c5b1656",
   "metadata": {},
   "outputs": [],
   "source": []
  }
 ],
 "metadata": {
  "kernelspec": {
   "display_name": "3.11.11",
   "language": "python",
   "name": "python3"
  },
  "language_info": {
   "codemirror_mode": {
    "name": "ipython",
    "version": 3
   },
   "file_extension": ".py",
   "mimetype": "text/x-python",
   "name": "python",
   "nbconvert_exporter": "python",
   "pygments_lexer": "ipython3",
   "version": "3.11.11"
  }
 },
 "nbformat": 4,
 "nbformat_minor": 5
}
